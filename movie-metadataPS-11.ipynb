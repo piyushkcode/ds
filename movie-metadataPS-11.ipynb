{
 "cells": [
  {
   "cell_type": "code",
   "execution_count": 2,
   "id": "e6d0122d",
   "metadata": {},
   "outputs": [],
   "source": [
    "import pandas as pd"
   ]
  },
  {
   "cell_type": "code",
   "execution_count": 3,
   "id": "0fa2d578",
   "metadata": {},
   "outputs": [],
   "source": [
    "# 1. Load the CSV (current directory)\n",
    "df = pd.read_csv(r\"E:\\DSBDAL\\DSBDALExam DataSets\\DSBDALExam DataSets\\Movie\\movies_metadata.csv\",\n",
    "    usecols=[\"title\", \"original_language\", \"vote_average\", \"popularity\"],\n",
    "    low_memory=False\n",
    ")"
   ]
  },
  {
   "cell_type": "code",
   "execution_count": 4,
   "id": "751d75b4",
   "metadata": {},
   "outputs": [],
   "source": [
    "# m. Subsets by original_language\n",
    "df_en = df[df[\"original_language\"] == \"en\"]\n",
    "df_fr = df[df[\"original_language\"] == \"fr\"]"
   ]
  },
  {
   "cell_type": "code",
   "execution_count": 5,
   "id": "3e55bb54",
   "metadata": {},
   "outputs": [
    {
     "name": "stdout",
     "output_type": "stream",
     "text": [
      "English films: (32269, 4)\n",
      "French films: (2438, 4)\n"
     ]
    }
   ],
   "source": [
    "print(\"English films:\",     df_en.shape)\n",
    "print(\"French films:\",      df_fr.shape)"
   ]
  },
  {
   "cell_type": "code",
   "execution_count": 6,
   "id": "576d831b",
   "metadata": {},
   "outputs": [],
   "source": [
    "# n. Merge two subsets (English + French)\n",
    "df_merged = pd.concat([df_en, df_fr], ignore_index=True)"
   ]
  },
  {
   "cell_type": "code",
   "execution_count": 7,
   "id": "abe36a6b",
   "metadata": {},
   "outputs": [
    {
     "name": "stdout",
     "output_type": "stream",
     "text": [
      "Merged EN+FR: (34707, 4)\n"
     ]
    }
   ],
   "source": [
    "print(\"Merged EN+FR:\",      df_merged.shape)"
   ]
  },
  {
   "cell_type": "code",
   "execution_count": 8,
   "id": "9eb94c2b",
   "metadata": {},
   "outputs": [],
   "source": [
    "# o. Sort entire dataset by customer rating (vote_average) descending\n",
    "df_sorted = df.sort_values(\"vote_average\", ascending=False).reset_index(drop=True)"
   ]
  },
  {
   "cell_type": "code",
   "execution_count": 9,
   "id": "55334178",
   "metadata": {},
   "outputs": [
    {
     "name": "stdout",
     "output_type": "stream",
     "text": [
      "\n",
      "Top 3 by rating:\n",
      "                                    title  vote_average\n",
      "0                              Time Pass          10.0\n",
      "1  LEGO DC Super Hero Girls: Brain Drain          10.0\n",
      "2                      Stealing a Nation          10.0\n"
     ]
    }
   ],
   "source": [
    "print(\"\\nTop 3 by rating:\\n\", df_sorted[[\"title\",\"vote_average\"]].head(3))"
   ]
  },
  {
   "cell_type": "code",
   "execution_count": 10,
   "id": "4f1334fa",
   "metadata": {},
   "outputs": [],
   "source": [
    "# p. Transpose the first 5 rows\n",
    "df_transposed = df.head(5).T"
   ]
  },
  {
   "cell_type": "code",
   "execution_count": 11,
   "id": "7b40ac74",
   "metadata": {},
   "outputs": [
    {
     "name": "stdout",
     "output_type": "stream",
     "text": [
      "\n",
      "Transposed sample:\n",
      "                            0          1                 2                  3  \\\n",
      "original_language         en         en                en                 en   \n",
      "popularity         21.946943  17.015539           11.7129           3.859495   \n",
      "title              Toy Story    Jumanji  Grumpier Old Men  Waiting to Exhale   \n",
      "vote_average             7.7        6.9               6.5                6.1   \n",
      "\n",
      "                                             4  \n",
      "original_language                           en  \n",
      "popularity                            8.387519  \n",
      "title              Father of the Bride Part II  \n",
      "vote_average                               5.7  \n"
     ]
    }
   ],
   "source": [
    "print(\"\\nTransposed sample:\\n\", df_transposed)"
   ]
  },
  {
   "cell_type": "code",
   "execution_count": 12,
   "id": "c2351dbe",
   "metadata": {},
   "outputs": [],
   "source": [
    "# q. Melt to long format (keep row index so we can pivot back)\n",
    "df_long = df.reset_index().rename(columns={\"index\": \"RowID\"})\n",
    "df_melted = pd.melt(\n",
    "    df_long,\n",
    "    id_vars=[\"RowID\", \"original_language\"],\n",
    "    var_name=\"metric\",\n",
    "    value_name=\"value\"\n",
    ")"
   ]
  },
  {
   "cell_type": "code",
   "execution_count": 13,
   "id": "e5ebda24",
   "metadata": {},
   "outputs": [
    {
     "name": "stdout",
     "output_type": "stream",
     "text": [
      "\n",
      "Melted sample:\n",
      "    RowID original_language      metric      value\n",
      "0      0                en  popularity  21.946943\n",
      "1      1                en  popularity  17.015539\n",
      "2      2                en  popularity    11.7129\n",
      "3      3                en  popularity   3.859495\n",
      "4      4                en  popularity   8.387519\n"
     ]
    }
   ],
   "source": [
    "print(\"\\nMelted sample:\\n\", df_melted.head())"
   ]
  },
  {
   "cell_type": "code",
   "execution_count": 14,
   "id": "99912057",
   "metadata": {},
   "outputs": [],
   "source": [
    "# r. Pivot back to wide\n",
    "df_wide = (\n",
    "    df_melted\n",
    "      .pivot(index=\"RowID\", columns=\"metric\", values=\"value\")\n",
    "      .reset_index(drop=True)\n",
    ")"
   ]
  },
  {
   "cell_type": "code",
   "execution_count": 15,
   "id": "0328b515",
   "metadata": {},
   "outputs": [
    {
     "name": "stdout",
     "output_type": "stream",
     "text": [
      "\n",
      "Wide sample:\n",
      " metric popularity                        title vote_average\n",
      "0       21.946943                    Toy Story          7.7\n",
      "1       17.015539                      Jumanji          6.9\n",
      "2         11.7129             Grumpier Old Men          6.5\n",
      "3        3.859495            Waiting to Exhale          6.1\n",
      "4        8.387519  Father of the Bride Part II          5.7\n"
     ]
    }
   ],
   "source": [
    "print(\"\\nWide sample:\\n\", df_wide.head())"
   ]
  },
  {
   "cell_type": "code",
   "execution_count": null,
   "id": "7735eca4",
   "metadata": {},
   "outputs": [],
   "source": []
  }
 ],
 "metadata": {
  "kernelspec": {
   "display_name": "Python 3 (ipykernel)",
   "language": "python",
   "name": "python3"
  },
  "language_info": {
   "codemirror_mode": {
    "name": "ipython",
    "version": 3
   },
   "file_extension": ".py",
   "mimetype": "text/x-python",
   "name": "python",
   "nbconvert_exporter": "python",
   "pygments_lexer": "ipython3",
   "version": "3.12.5"
  }
 },
 "nbformat": 4,
 "nbformat_minor": 5
}
