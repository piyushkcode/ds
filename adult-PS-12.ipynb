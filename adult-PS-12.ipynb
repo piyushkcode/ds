{
 "cells": [
  {
   "cell_type": "code",
   "execution_count": 1,
   "id": "484fdad5",
   "metadata": {},
   "outputs": [],
   "source": [
    "import pandas as pd\n",
    "\n",
    "# 1. Load the Adult dataset (comma-separated, drop the “?” placeholders)\n",
    "cols = [\n",
    "    \"age\",\"workclass\",\"fnlwgt\",\"education\",\"education-num\",\n",
    "    \"marital-status\",\"occupation\",\"relationship\",\"race\",\n",
    "    \"sex\",\"capital-gain\",\"capital-loss\",\"hours-per-week\",\n",
    "    \"native-country\",\"income\"\n",
    "]\n",
    "df = pd.read_csv(r\"E:\\DSBDAL\\DSBDALExam DataSets\\DSBDALExam DataSets\\Adult\\adult_dataset.csv\",\n",
    "    names=cols,\n",
    "    na_values=\" ?\",\n",
    "    skipinitialspace=True\n",
    ").dropna()"
   ]
  },
  {
   "cell_type": "code",
   "execution_count": 2,
   "id": "3ea8c8b9",
   "metadata": {},
   "outputs": [],
   "source": [
    "# s. Create subsets by country, sex, and race\n",
    "df_us     = df[df[\"native-country\"] == \"United-States\"]\n",
    "df_female = df[df[\"sex\"] == \"Female\"]\n",
    "df_white  = df[df[\"race\"] == \"White\"]"
   ]
  },
  {
   "cell_type": "code",
   "execution_count": 3,
   "id": "b62c84d3",
   "metadata": {},
   "outputs": [
    {
     "name": "stdout",
     "output_type": "stream",
     "text": [
      "US subset: (43832, 15)\n",
      "Female subset: (16192, 15)\n",
      "White subset: (41762, 15)\n"
     ]
    }
   ],
   "source": [
    "print(\"US subset:\",       df_us.shape)\n",
    "print(\"Female subset:\",   df_female.shape)\n",
    "print(\"White subset:\",    df_white.shape)"
   ]
  },
  {
   "cell_type": "code",
   "execution_count": 4,
   "id": "0df02fc5",
   "metadata": {},
   "outputs": [],
   "source": [
    "df_us_female = pd.concat([df_us, df_female], ignore_index=True).drop_duplicates()"
   ]
  },
  {
   "cell_type": "code",
   "execution_count": 5,
   "id": "b3c353eb",
   "metadata": {},
   "outputs": [
    {
     "name": "stdout",
     "output_type": "stream",
     "text": [
      "Merged US+Female: (45372, 15)\n"
     ]
    }
   ],
   "source": [
    "print(\"Merged US+Female:\",df_us_female.shape)"
   ]
  },
  {
   "cell_type": "code",
   "execution_count": 6,
   "id": "aa179e44",
   "metadata": {},
   "outputs": [],
   "source": [
    "df_sorted = df.sort_values(\"hours-per-week\", ascending=False).reset_index(drop=True)"
   ]
  },
  {
   "cell_type": "code",
   "execution_count": 7,
   "id": "bf217095",
   "metadata": {},
   "outputs": [
    {
     "name": "stdout",
     "output_type": "stream",
     "text": [
      "\n",
      "Top 3 busiest (hrs/week):\n",
      "       sex  hours-per-week\n",
      "0  gender  hours-per-week\n",
      "1  Female              99\n",
      "2  Female              99\n"
     ]
    }
   ],
   "source": [
    "print(\"\\nTop 3 busiest (hrs/week):\\n\", df_sorted[[\"sex\",\"hours-per-week\"]].head(3))"
   ]
  },
  {
   "cell_type": "code",
   "execution_count": 8,
   "id": "54cde1b3",
   "metadata": {},
   "outputs": [],
   "source": [
    "df_transposed = df.head(5).T"
   ]
  },
  {
   "cell_type": "code",
   "execution_count": 9,
   "id": "51596735",
   "metadata": {},
   "outputs": [
    {
     "name": "stdout",
     "output_type": "stream",
     "text": [
      "\n",
      "Transposed (first 5 rows):\n",
      "                               0                  1                   2  \\\n",
      "age                         age                 25                  38   \n",
      "workclass             workclass            Private             Private   \n",
      "fnlwgt                   fnlwgt             226802               89814   \n",
      "education             education               11th             HS-grad   \n",
      "education-num   educational-num                  7                   9   \n",
      "marital-status   marital-status      Never-married  Married-civ-spouse   \n",
      "occupation           occupation  Machine-op-inspct     Farming-fishing   \n",
      "relationship       relationship          Own-child             Husband   \n",
      "race                       race              Black               White   \n",
      "sex                      gender               Male                Male   \n",
      "capital-gain       capital-gain                  0                   0   \n",
      "capital-loss       capital-loss                  0                   0   \n",
      "hours-per-week   hours-per-week                 40                  50   \n",
      "native-country   native-country      United-States       United-States   \n",
      "income                   income              <=50K               <=50K   \n",
      "\n",
      "                                 3                   4  \n",
      "age                             28                  44  \n",
      "workclass                Local-gov             Private  \n",
      "fnlwgt                      336951              160323  \n",
      "education               Assoc-acdm        Some-college  \n",
      "education-num                   12                  10  \n",
      "marital-status  Married-civ-spouse  Married-civ-spouse  \n",
      "occupation         Protective-serv   Machine-op-inspct  \n",
      "relationship               Husband             Husband  \n",
      "race                         White               Black  \n",
      "sex                           Male                Male  \n",
      "capital-gain                     0                7688  \n",
      "capital-loss                     0                   0  \n",
      "hours-per-week                  40                  40  \n",
      "native-country       United-States       United-States  \n",
      "income                        >50K                >50K  \n"
     ]
    }
   ],
   "source": [
    "print(\"\\nTransposed (first 5 rows):\\n\", df_transposed)"
   ]
  },
  {
   "cell_type": "code",
   "execution_count": 10,
   "id": "3f1ee99e",
   "metadata": {},
   "outputs": [],
   "source": [
    "df_long = df.reset_index().rename(columns={\"index\":\"RowID\"})\n",
    "df_melted = pd.melt(\n",
    "    df_long,\n",
    "    id_vars=[\"RowID\",\"sex\",\"race\",\"native-country\"],\n",
    "    var_name=\"feature\",\n",
    "    value_name=\"value\"\n",
    ")"
   ]
  },
  {
   "cell_type": "code",
   "execution_count": 11,
   "id": "d1be8507",
   "metadata": {},
   "outputs": [
    {
     "name": "stdout",
     "output_type": "stream",
     "text": [
      "\n",
      "Melted sample:\n",
      "    RowID     sex   race  native-country feature value\n",
      "0      0  gender   race  native-country     age   age\n",
      "1      1    Male  Black   United-States     age    25\n",
      "2      2    Male  White   United-States     age    38\n",
      "3      3    Male  White   United-States     age    28\n",
      "4      4    Male  Black   United-States     age    44\n",
      "5      5  Female  White   United-States     age    18\n"
     ]
    }
   ],
   "source": [
    "print(\"\\nMelted sample:\\n\", df_melted.head(6))"
   ]
  },
  {
   "cell_type": "code",
   "execution_count": 12,
   "id": "36981a93",
   "metadata": {},
   "outputs": [],
   "source": [
    "df_wide = (\n",
    "    df_melted\n",
    "      .pivot(index=\"RowID\", columns=\"feature\", values=\"value\")\n",
    "      .reset_index(drop=True)\n",
    ")"
   ]
  },
  {
   "cell_type": "code",
   "execution_count": 13,
   "id": "68173f15",
   "metadata": {},
   "outputs": [
    {
     "name": "stdout",
     "output_type": "stream",
     "text": [
      "\n",
      "Re-pivoted wide (first 5 rows):\n",
      " feature  age  capital-gain  capital-loss     education    education-num  \\\n",
      "0        age  capital-gain  capital-loss     education  educational-num   \n",
      "1         25             0             0          11th                7   \n",
      "2         38             0             0       HS-grad                9   \n",
      "3         28             0             0    Assoc-acdm               12   \n",
      "4         44          7688             0  Some-college               10   \n",
      "\n",
      "feature  fnlwgt  hours-per-week  income      marital-status  \\\n",
      "0        fnlwgt  hours-per-week  income      marital-status   \n",
      "1        226802              40   <=50K       Never-married   \n",
      "2         89814              50   <=50K  Married-civ-spouse   \n",
      "3        336951              40    >50K  Married-civ-spouse   \n",
      "4        160323              40    >50K  Married-civ-spouse   \n",
      "\n",
      "feature         occupation  relationship  workclass  \n",
      "0               occupation  relationship  workclass  \n",
      "1        Machine-op-inspct     Own-child    Private  \n",
      "2          Farming-fishing       Husband    Private  \n",
      "3          Protective-serv       Husband  Local-gov  \n",
      "4        Machine-op-inspct       Husband    Private  \n"
     ]
    }
   ],
   "source": [
    "print(\"\\nRe-pivoted wide (first 5 rows):\\n\", df_wide.head())"
   ]
  },
  {
   "cell_type": "code",
   "execution_count": null,
   "id": "dd680d7d",
   "metadata": {},
   "outputs": [],
   "source": []
  },
  {
   "cell_type": "code",
   "execution_count": null,
   "id": "9701a9a2-dba1-45dd-8382-599948ca2ecc",
   "metadata": {},
   "outputs": [],
   "source": []
  },
  {
   "cell_type": "code",
   "execution_count": null,
   "id": "fc879e98-e90b-4a70-bb55-67af347f6d1b",
   "metadata": {},
   "outputs": [],
   "source": []
  }
 ],
 "metadata": {
  "kernelspec": {
   "display_name": "Python 3 (ipykernel)",
   "language": "python",
   "name": "python3"
  },
  "language_info": {
   "codemirror_mode": {
    "name": "ipython",
    "version": 3
   },
   "file_extension": ".py",
   "mimetype": "text/x-python",
   "name": "python",
   "nbconvert_exporter": "python",
   "pygments_lexer": "ipython3",
   "version": "3.12.5"
  }
 },
 "nbformat": 4,
 "nbformat_minor": 5
}
