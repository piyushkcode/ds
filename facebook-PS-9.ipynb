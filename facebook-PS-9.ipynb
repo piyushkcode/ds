{
 "cells": [
  {
   "cell_type": "code",
   "execution_count": 1,
   "id": "9f9f0d68",
   "metadata": {},
   "outputs": [],
   "source": [
    "import pandas as pd"
   ]
  },
  {
   "cell_type": "code",
   "execution_count": 4,
   "id": "9b31af25",
   "metadata": {},
   "outputs": [],
   "source": [
    "df = pd.read_csv(r'E:\\DSBDAL\\DSBDALExam DataSets\\DSBDALExam DataSets\\dataset_Facebook.csv', sep=';')"
   ]
  },
  {
   "cell_type": "code",
   "execution_count": 5,
   "id": "c3ab4f9b",
   "metadata": {},
   "outputs": [],
   "source": [
    "# 2a. Create subsets by “Type”\n",
    "photo = df[df[\"Type\"] == \"Photo\"]\n",
    "video = df[df[\"Type\"] == \"Video\"]"
   ]
  },
  {
   "cell_type": "code",
   "execution_count": 6,
   "id": "29777913",
   "metadata": {},
   "outputs": [
    {
     "name": "stdout",
     "output_type": "stream",
     "text": [
      "Photo subset: (426, 19)\n",
      "Video subset: (7, 19)\n"
     ]
    }
   ],
   "source": [
    "print(\"Photo subset:\", photo.shape)\n",
    "print(\"Video subset:\", video.shape)"
   ]
  },
  {
   "cell_type": "code",
   "execution_count": 7,
   "id": "e0c094d5",
   "metadata": {},
   "outputs": [],
   "source": [
    "# 2b. Merge the two subsets (photo + video)\n",
    "merged = pd.concat([photo, video])"
   ]
  },
  {
   "cell_type": "code",
   "execution_count": 8,
   "id": "bdd64d6a",
   "metadata": {},
   "outputs": [
    {
     "name": "stdout",
     "output_type": "stream",
     "text": [
      "Merged subset: (433, 19)\n"
     ]
    }
   ],
   "source": [
    "print(\"Merged subset:\",  merged.shape)"
   ]
  },
  {
   "cell_type": "code",
   "execution_count": 14,
   "id": "d557a44d",
   "metadata": {},
   "outputs": [
    {
     "name": "stdout",
     "output_type": "stream",
     "text": [
      "\n",
      "Top 6 by likes:\n",
      "       Type  Page total likes\n",
      "13   Photo            139441\n",
      "1   Status            139441\n",
      "0    Photo            139441\n",
      "5   Status            139441\n",
      "4    Photo            139441\n",
      "6    Photo            139441\n"
     ]
    }
   ],
   "source": [
    "# Sort Data on Page total likes  \n",
    "df_sorted = df.sort_values(by='Page total likes', ascending=False)\n",
    "print(\"\\nTop 6 by likes:\\n\", df_sorted[['Type','Page total likes']].head(6))"
   ]
  },
  {
   "cell_type": "code",
   "execution_count": 10,
   "id": "f3585001",
   "metadata": {},
   "outputs": [],
   "source": [
    "# 2d. Transpose the first 5 rows\n",
    "df_transposed = df.head(5).T"
   ]
  },
  {
   "cell_type": "code",
   "execution_count": 11,
   "id": "2f1717ac",
   "metadata": {},
   "outputs": [
    {
     "name": "stdout",
     "output_type": "stream",
     "text": [
      "\n",
      "First 5 rows transposed:\n",
      "                                                          0       1       2  \\\n",
      "Page total likes                                    139441  139441  139441   \n",
      "Type                                                 Photo  Status   Photo   \n",
      "Category                                                 2       2       3   \n",
      "Post Month                                              12      12      12   \n",
      "Post Weekday                                             4       3       3   \n",
      "Post Hour                                                3      10       3   \n",
      "Paid                                                   0.0     0.0     0.0   \n",
      "Lifetime Post Total Reach                             2752   10460    2413   \n",
      "Lifetime Post Total Impressions                       5091   19057    4373   \n",
      "Lifetime Engaged Users                                 178    1457     177   \n",
      "Lifetime Post Consumers                                109    1361     113   \n",
      "Lifetime Post Consumptions                             159    1674     154   \n",
      "Lifetime Post Impressions by people who have li...    3078   11710    2812   \n",
      "Lifetime Post reach by people who like your Page      1640    6112    1503   \n",
      "Lifetime People who have liked your Page and en...     119    1108     132   \n",
      "comment                                                  4       5       0   \n",
      "like                                                  79.0   130.0    66.0   \n",
      "share                                                 17.0    29.0    14.0   \n",
      "Total Interactions                                     100     164      80   \n",
      "\n",
      "                                                         3       4  \n",
      "Page total likes                                    139441  139441  \n",
      "Type                                                 Photo   Photo  \n",
      "Category                                                 2       2  \n",
      "Post Month                                              12      12  \n",
      "Post Weekday                                             2       2  \n",
      "Post Hour                                               10       3  \n",
      "Paid                                                   1.0     0.0  \n",
      "Lifetime Post Total Reach                            50128    7244  \n",
      "Lifetime Post Total Impressions                      87991   13594  \n",
      "Lifetime Engaged Users                                2211     671  \n",
      "Lifetime Post Consumers                                790     410  \n",
      "Lifetime Post Consumptions                            1119     580  \n",
      "Lifetime Post Impressions by people who have li...   61027    6228  \n",
      "Lifetime Post reach by people who like your Page     32048    3200  \n",
      "Lifetime People who have liked your Page and en...    1386     396  \n",
      "comment                                                 58      19  \n",
      "like                                                1572.0   325.0  \n",
      "share                                                147.0    49.0  \n",
      "Total Interactions                                    1777     393  \n"
     ]
    }
   ],
   "source": [
    "print(\"\\nFirst 5 rows transposed:\\n\", df_transposed)"
   ]
  },
  {
   "cell_type": "code",
   "execution_count": 12,
   "id": "2220af22",
   "metadata": {},
   "outputs": [
    {
     "name": "stdout",
     "output_type": "stream",
     "text": [
      "\n",
      "Melted sample:\n",
      "      Type  Category          variable     value\n",
      "0   Photo         2  Page total likes  139441.0\n",
      "1  Status         2  Page total likes  139441.0\n",
      "2   Photo         3  Page total likes  139441.0\n",
      "3   Photo         2  Page total likes  139441.0\n",
      "4   Photo         2  Page total likes  139441.0\n"
     ]
    }
   ],
   "source": [
    "#Melting Data to long format  \n",
    "df_melted = pd.melt(df, id_vars=['Type', 'Category'])\n",
    "print(\"\\nMelted sample:\\n\", df_melted.head())"
   ]
  },
  {
   "cell_type": "code",
   "execution_count": 13,
   "id": "7d5a9588",
   "metadata": {},
   "outputs": [
    {
     "data": {
      "text/html": [
       "<div>\n",
       "<style scoped>\n",
       "    .dataframe tbody tr th:only-of-type {\n",
       "        vertical-align: middle;\n",
       "    }\n",
       "\n",
       "    .dataframe tbody tr th {\n",
       "        vertical-align: top;\n",
       "    }\n",
       "\n",
       "    .dataframe thead th {\n",
       "        text-align: right;\n",
       "    }\n",
       "</style>\n",
       "<table border=\"1\" class=\"dataframe\">\n",
       "  <thead>\n",
       "    <tr style=\"text-align: right;\">\n",
       "      <th></th>\n",
       "      <th></th>\n",
       "      <th>like</th>\n",
       "    </tr>\n",
       "    <tr>\n",
       "      <th>Type</th>\n",
       "      <th>Category</th>\n",
       "      <th></th>\n",
       "    </tr>\n",
       "  </thead>\n",
       "  <tbody>\n",
       "    <tr>\n",
       "      <th rowspan=\"3\" valign=\"top\">Link</th>\n",
       "      <th>1</th>\n",
       "      <td>75.650000</td>\n",
       "    </tr>\n",
       "    <tr>\n",
       "      <th>2</th>\n",
       "      <td>32.000000</td>\n",
       "    </tr>\n",
       "    <tr>\n",
       "      <th>3</th>\n",
       "      <td>68.000000</td>\n",
       "    </tr>\n",
       "    <tr>\n",
       "      <th rowspan=\"3\" valign=\"top\">Photo</th>\n",
       "      <th>1</th>\n",
       "      <td>126.000000</td>\n",
       "    </tr>\n",
       "    <tr>\n",
       "      <th>2</th>\n",
       "      <td>235.857143</td>\n",
       "    </tr>\n",
       "    <tr>\n",
       "      <th>3</th>\n",
       "      <td>219.753333</td>\n",
       "    </tr>\n",
       "    <tr>\n",
       "      <th rowspan=\"3\" valign=\"top\">Status</th>\n",
       "      <th>1</th>\n",
       "      <td>136.333333</td>\n",
       "    </tr>\n",
       "    <tr>\n",
       "      <th>2</th>\n",
       "      <td>182.552632</td>\n",
       "    </tr>\n",
       "    <tr>\n",
       "      <th>3</th>\n",
       "      <td>151.500000</td>\n",
       "    </tr>\n",
       "    <tr>\n",
       "      <th>Video</th>\n",
       "      <th>1</th>\n",
       "      <td>231.428571</td>\n",
       "    </tr>\n",
       "  </tbody>\n",
       "</table>\n",
       "</div>"
      ],
      "text/plain": [
       "                       like\n",
       "Type   Category            \n",
       "Link   1          75.650000\n",
       "       2          32.000000\n",
       "       3          68.000000\n",
       "Photo  1         126.000000\n",
       "       2         235.857143\n",
       "       3         219.753333\n",
       "Status 1         136.333333\n",
       "       2         182.552632\n",
       "       3         151.500000\n",
       "Video  1         231.428571"
      ]
     },
     "execution_count": 13,
     "metadata": {},
     "output_type": "execute_result"
    }
   ],
   "source": [
    "#Casting data to wide format  \n",
    "casting = pd.pivot_table(df,index=[\"Type\",\"Category\"],values=\"like\",fill_value=0)\n",
    "casting"
   ]
  },
  {
   "cell_type": "code",
   "execution_count": null,
   "id": "597cf963-fee8-4ddb-b831-c0f316cc02fc",
   "metadata": {},
   "outputs": [],
   "source": [
    "    "
   ]
  }
 ],
 "metadata": {
  "kernelspec": {
   "display_name": "Python 3 (ipykernel)",
   "language": "python",
   "name": "python3"
  },
  "language_info": {
   "codemirror_mode": {
    "name": "ipython",
    "version": 3
   },
   "file_extension": ".py",
   "mimetype": "text/x-python",
   "name": "python",
   "nbconvert_exporter": "python",
   "pygments_lexer": "ipython3",
   "version": "3.12.5"
  }
 },
 "nbformat": 4,
 "nbformat_minor": 5
}
