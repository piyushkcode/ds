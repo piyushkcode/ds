{
 "cells": [
  {
   "cell_type": "code",
   "execution_count": 1,
   "id": "169afad9-2deb-4f7d-95c6-101740700ef6",
   "metadata": {},
   "outputs": [
    {
     "name": "stdout",
     "output_type": "stream",
     "text": [
      "Naive Bayes Accuracy: 0.9489795918367347\n",
      "Logistic Regression Accuracy: 0.9897959183673469\n",
      "\n",
      "Naive Bayes Report:\n",
      "               precision    recall  f1-score   support\n",
      "\n",
      "           0       0.95      0.97      0.96        59\n",
      "           1       0.95      0.92      0.94        39\n",
      "\n",
      "    accuracy                           0.95        98\n",
      "   macro avg       0.95      0.94      0.95        98\n",
      "weighted avg       0.95      0.95      0.95        98\n",
      "\n",
      "\n",
      "Logistic Regression Report:\n",
      "               precision    recall  f1-score   support\n",
      "\n",
      "           0       0.98      1.00      0.99        59\n",
      "           1       1.00      0.97      0.99        39\n",
      "\n",
      "    accuracy                           0.99        98\n",
      "   macro avg       0.99      0.99      0.99        98\n",
      "weighted avg       0.99      0.99      0.99        98\n",
      "\n"
     ]
    }
   ],
   "source": [
    "import pandas as pd\n",
    "import numpy as np\n",
    "from sklearn.model_selection import train_test_split\n",
    "from sklearn.preprocessing import StandardScaler\n",
    "from sklearn.naive_bayes import GaussianNB\n",
    "from sklearn.linear_model import LogisticRegression\n",
    "from sklearn.metrics import accuracy_score, classification_report\n",
    "\n",
    "# Step i: Load & clean data\n",
    "df = pd.read_csv(\"breast-cancer.csv\")\n",
    "\n",
    "# Drop columns with missing or unknown values\n",
    "df.replace(['?', 'na', 'NA', 'NaN'], np.nan, inplace=True)\n",
    "df.dropna(inplace=True)\n",
    "\n",
    "# Remove negative values\n",
    "df = df[(df.select_dtypes(include=[np.number]) >= 0).all(axis=1)]\n",
    "\n",
    "# Step j: Outlier removal using Z-score\n",
    "from scipy import stats\n",
    "z_scores = np.abs(stats.zscore(df.select_dtypes(include=[np.number])))\n",
    "df = df[(z_scores < 3).all(axis=1)]\n",
    "\n",
    "# Step k: Transform diagnosis to 0/1\n",
    "df['diagnosis'] = df['diagnosis'].map({'M': 1, 'B': 0})\n",
    "\n",
    "# Separate features and target\n",
    "X = df.drop(['id', 'diagnosis'], axis=1)\n",
    "y = df['diagnosis']\n",
    "\n",
    "# Normalize features\n",
    "scaler = StandardScaler()\n",
    "X_scaled = scaler.fit_transform(X)\n",
    "\n",
    "# Split data\n",
    "X_train, X_test, y_train, y_test = train_test_split(X_scaled, y, test_size=0.2, random_state=42)\n",
    "\n",
    "# Step l: Model 1 - Naïve Bayes\n",
    "nb = GaussianNB()\n",
    "nb.fit(X_train, y_train)\n",
    "nb_preds = nb.predict(X_test)\n",
    "print(\"Naive Bayes Accuracy:\", accuracy_score(y_test, nb_preds))\n",
    "\n",
    "# Model 2 - Logistic Regression\n",
    "lr = LogisticRegression()\n",
    "lr.fit(X_train, y_train)\n",
    "lr_preds = lr.predict(X_test)\n",
    "print(\"Logistic Regression Accuracy:\", accuracy_score(y_test, lr_preds))\n",
    "\n",
    "# Classification Reports\n",
    "print(\"\\nNaive Bayes Report:\\n\", classification_report(y_test, nb_preds))\n",
    "print(\"\\nLogistic Regression Report:\\n\", classification_report(y_test, lr_preds))\n"
   ]
  },
  {
   "cell_type": "code",
   "execution_count": null,
   "id": "ebe5ced6-71a8-4597-964a-73f4afe2cfe9",
   "metadata": {},
   "outputs": [],
   "source": []
  }
 ],
 "metadata": {
  "kernelspec": {
   "display_name": "Python 3 (ipykernel)",
   "language": "python",
   "name": "python3"
  },
  "language_info": {
   "codemirror_mode": {
    "name": "ipython",
    "version": 3
   },
   "file_extension": ".py",
   "mimetype": "text/x-python",
   "name": "python",
   "nbconvert_exporter": "python",
   "pygments_lexer": "ipython3",
   "version": "3.12.7"
  }
 },
 "nbformat": 4,
 "nbformat_minor": 5
}
