{
 "cells": [
  {
   "cell_type": "code",
   "execution_count": 15,
   "id": "88a16344",
   "metadata": {},
   "outputs": [],
   "source": [
    "import pandas as pd"
   ]
  },
  {
   "cell_type": "code",
   "execution_count": 17,
   "id": "c418997c",
   "metadata": {},
   "outputs": [
    {
     "data": {
      "text/html": [
       "<div>\n",
       "<style scoped>\n",
       "    .dataframe tbody tr th:only-of-type {\n",
       "        vertical-align: middle;\n",
       "    }\n",
       "\n",
       "    .dataframe tbody tr th {\n",
       "        vertical-align: top;\n",
       "    }\n",
       "\n",
       "    .dataframe thead th {\n",
       "        text-align: right;\n",
       "    }\n",
       "</style>\n",
       "<table border=\"1\" class=\"dataframe\">\n",
       "  <thead>\n",
       "    <tr style=\"text-align: right;\">\n",
       "      <th></th>\n",
       "      <th>sepal_length</th>\n",
       "      <th>sepal_width</th>\n",
       "      <th>petal_length</th>\n",
       "      <th>petal_width</th>\n",
       "      <th>species</th>\n",
       "    </tr>\n",
       "  </thead>\n",
       "  <tbody>\n",
       "    <tr>\n",
       "      <th>0</th>\n",
       "      <td>sepal.length</td>\n",
       "      <td>sepal.width</td>\n",
       "      <td>petal.length</td>\n",
       "      <td>petal.width</td>\n",
       "      <td>variety</td>\n",
       "    </tr>\n",
       "    <tr>\n",
       "      <th>1</th>\n",
       "      <td>5.1</td>\n",
       "      <td>3.5</td>\n",
       "      <td>1.4</td>\n",
       "      <td>.2</td>\n",
       "      <td>Setosa</td>\n",
       "    </tr>\n",
       "    <tr>\n",
       "      <th>2</th>\n",
       "      <td>4.9</td>\n",
       "      <td>3</td>\n",
       "      <td>1.4</td>\n",
       "      <td>.2</td>\n",
       "      <td>Setosa</td>\n",
       "    </tr>\n",
       "    <tr>\n",
       "      <th>3</th>\n",
       "      <td>4.7</td>\n",
       "      <td>3.2</td>\n",
       "      <td>1.3</td>\n",
       "      <td>.2</td>\n",
       "      <td>Setosa</td>\n",
       "    </tr>\n",
       "    <tr>\n",
       "      <th>4</th>\n",
       "      <td>4.6</td>\n",
       "      <td>3.1</td>\n",
       "      <td>1.5</td>\n",
       "      <td>.2</td>\n",
       "      <td>Setosa</td>\n",
       "    </tr>\n",
       "    <tr>\n",
       "      <th>...</th>\n",
       "      <td>...</td>\n",
       "      <td>...</td>\n",
       "      <td>...</td>\n",
       "      <td>...</td>\n",
       "      <td>...</td>\n",
       "    </tr>\n",
       "    <tr>\n",
       "      <th>146</th>\n",
       "      <td>6.7</td>\n",
       "      <td>3</td>\n",
       "      <td>5.2</td>\n",
       "      <td>2.3</td>\n",
       "      <td>Virginica</td>\n",
       "    </tr>\n",
       "    <tr>\n",
       "      <th>147</th>\n",
       "      <td>6.3</td>\n",
       "      <td>2.5</td>\n",
       "      <td>5</td>\n",
       "      <td>1.9</td>\n",
       "      <td>Virginica</td>\n",
       "    </tr>\n",
       "    <tr>\n",
       "      <th>148</th>\n",
       "      <td>6.5</td>\n",
       "      <td>3</td>\n",
       "      <td>5.2</td>\n",
       "      <td>2</td>\n",
       "      <td>Virginica</td>\n",
       "    </tr>\n",
       "    <tr>\n",
       "      <th>149</th>\n",
       "      <td>6.2</td>\n",
       "      <td>3.4</td>\n",
       "      <td>5.4</td>\n",
       "      <td>2.3</td>\n",
       "      <td>Virginica</td>\n",
       "    </tr>\n",
       "    <tr>\n",
       "      <th>150</th>\n",
       "      <td>5.9</td>\n",
       "      <td>3</td>\n",
       "      <td>5.1</td>\n",
       "      <td>1.8</td>\n",
       "      <td>Virginica</td>\n",
       "    </tr>\n",
       "  </tbody>\n",
       "</table>\n",
       "<p>151 rows × 5 columns</p>\n",
       "</div>"
      ],
      "text/plain": [
       "     sepal_length  sepal_width  petal_length  petal_width    species\n",
       "0    sepal.length  sepal.width  petal.length  petal.width    variety\n",
       "1             5.1          3.5           1.4           .2     Setosa\n",
       "2             4.9            3           1.4           .2     Setosa\n",
       "3             4.7          3.2           1.3           .2     Setosa\n",
       "4             4.6          3.1           1.5           .2     Setosa\n",
       "..            ...          ...           ...          ...        ...\n",
       "146           6.7            3           5.2          2.3  Virginica\n",
       "147           6.3          2.5             5          1.9  Virginica\n",
       "148           6.5            3           5.2            2  Virginica\n",
       "149           6.2          3.4           5.4          2.3  Virginica\n",
       "150           5.9            3           5.1          1.8  Virginica\n",
       "\n",
       "[151 rows x 5 columns]"
      ]
     },
     "execution_count": 17,
     "metadata": {},
     "output_type": "execute_result"
    }
   ],
   "source": [
    "cols = [\"sepal_length\",\"sepal_width\",\"petal_length\",\"petal_width\",\"species\"]\n",
    "df = pd.read_csv(r\"E:\\DSBDAL\\DSBDALExam DataSets\\DSBDALExam DataSets\\Iris\\Iris.csv\", header=None, names=cols)\n",
    "\n",
    "df"
   ]
  },
  {
   "cell_type": "code",
   "execution_count": 18,
   "id": "2cd583cb",
   "metadata": {},
   "outputs": [],
   "source": [
    "# g. Create subsets for each species\n",
    "setosa     = df[df.species == \"Iris-setosa\"]\n",
    "versicolor = df[df.species == \"Iris-versicolor\"]\n",
    "virginica  = df[df.species == \"Iris-virginica\"]"
   ]
  },
  {
   "cell_type": "code",
   "execution_count": 19,
   "id": "4fe068ec",
   "metadata": {},
   "outputs": [
    {
     "name": "stdout",
     "output_type": "stream",
     "text": [
      "Setosa subset: (0, 5)\n",
      "Versicolor subset: (0, 5)\n",
      "virginica subset: (0, 5)\n"
     ]
    }
   ],
   "source": [
    "print(\"Setosa subset:\",     setosa.shape)\n",
    "print(\"Versicolor subset:\", versicolor.shape)\n",
    "print(\"virginica subset:\", virginica.shape)"
   ]
  },
  {
   "cell_type": "code",
   "execution_count": 20,
   "id": "d562516b",
   "metadata": {},
   "outputs": [],
   "source": [
    "# h. Merge two subsets (e.g. setosa + versicolor)\n",
    "setosa_versicolor_virginica = pd.concat([setosa, versicolor, virginica], ignore_index=True)"
   ]
  },
  {
   "cell_type": "code",
   "execution_count": 21,
   "id": "ddc8c83a",
   "metadata": {},
   "outputs": [
    {
     "name": "stdout",
     "output_type": "stream",
     "text": [
      "Merged subset: (0, 5)\n"
     ]
    }
   ],
   "source": [
    "print(\"Merged subset:\",     setosa_versicolor_virginica.shape)"
   ]
  },
  {
   "cell_type": "code",
   "execution_count": 22,
   "id": "76022307",
   "metadata": {},
   "outputs": [
    {
     "name": "stdout",
     "output_type": "stream",
     "text": [
      "\n",
      "Top 3 by petal length:\n",
      "   species petal_length\n",
      "0  Setosa            1\n",
      "1  Setosa          1.1\n",
      "2  Setosa          1.2\n"
     ]
    }
   ],
   "source": [
    "by_petal_length = df.sort_values(\"petal_length\").reset_index(drop=True)\n",
    "print(\"\\nTop 3 by petal length:\\n\", by_petal_length[[\"species\",\"petal_length\"]].head(3))"
   ]
  },
  {
   "cell_type": "code",
   "execution_count": 23,
   "id": "ae8c2b83",
   "metadata": {},
   "outputs": [
    {
     "name": "stdout",
     "output_type": "stream",
     "text": [
      "\n",
      "First 5 rows transposed:\n",
      "                          0       1       2       3       4\n",
      "sepal_length  sepal.length     5.1     4.9     4.7     4.6\n",
      "sepal_width    sepal.width     3.5       3     3.2     3.1\n",
      "petal_length  petal.length     1.4     1.4     1.3     1.5\n",
      "petal_width    petal.width      .2      .2      .2      .2\n",
      "species            variety  Setosa  Setosa  Setosa  Setosa\n"
     ]
    }
   ],
   "source": [
    "first5_transposed = df.head(5).T\n",
    "print(\"\\nFirst 5 rows transposed:\\n\", first5_transposed)"
   ]
  },
  {
   "cell_type": "code",
   "execution_count": 24,
   "id": "b20f77a5",
   "metadata": {},
   "outputs": [],
   "source": [
    "# k. Melt to “long” (tidy) format\n",
    "#    we’ll carry along the original row index so we can pivot back\n",
    "# ——————————\n",
    "df_reset = df.reset_index().rename(columns={\"index\":\"row_id\"})\n",
    "df_melted = pd.melt(\n",
    "    df_reset,\n",
    "    id_vars=[\"row_id\",\"species\"],\n",
    "    var_name=\"measurement\",\n",
    "    value_name=\"value\"\n",
    ")"
   ]
  },
  {
   "cell_type": "code",
   "execution_count": 25,
   "id": "718cad8b",
   "metadata": {},
   "outputs": [
    {
     "name": "stdout",
     "output_type": "stream",
     "text": [
      "\n",
      "Melted sample:\n",
      "    row_id  species   measurement         value\n",
      "0       0  variety  sepal_length  sepal.length\n",
      "1       1   Setosa  sepal_length           5.1\n",
      "2       2   Setosa  sepal_length           4.9\n",
      "3       3   Setosa  sepal_length           4.7\n",
      "4       4   Setosa  sepal_length           4.6\n",
      "5       5   Setosa  sepal_length             5\n"
     ]
    }
   ],
   "source": [
    "print(\"\\nMelted sample:\\n\", df_melted.head(6))"
   ]
  },
  {
   "cell_type": "code",
   "execution_count": 26,
   "id": "60bd430b",
   "metadata": {},
   "outputs": [],
   "source": [
    "# l. Cast (pivot) back to “wide” format\n",
    "\n",
    "df_wide = (\n",
    "    df_melted\n",
    "      .pivot(index=\"row_id\", columns=\"measurement\", values=\"value\")\n",
    "      .reset_index(drop=True)\n",
    ")\n"
   ]
  },
  {
   "cell_type": "code",
   "execution_count": 27,
   "id": "64091b63",
   "metadata": {},
   "outputs": [
    {
     "name": "stdout",
     "output_type": "stream",
     "text": [
      "\n",
      "Re-pivoted to wide (first 5 rows):\n",
      " measurement  petal_length  petal_width  sepal_length  sepal_width\n",
      "0            petal.length  petal.width  sepal.length  sepal.width\n",
      "1                     1.4           .2           5.1          3.5\n",
      "2                     1.4           .2           4.9            3\n",
      "3                     1.3           .2           4.7          3.2\n",
      "4                     1.5           .2           4.6          3.1\n"
     ]
    }
   ],
   "source": [
    "print(\"\\nRe-pivoted to wide (first 5 rows):\\n\", df_wide.head())"
   ]
  },
  {
   "cell_type": "code",
   "execution_count": null,
   "id": "103610c7",
   "metadata": {},
   "outputs": [],
   "source": []
  },
  {
   "cell_type": "code",
   "execution_count": null,
   "id": "2b3df498-fa44-4498-bd78-c0e01f53ec9d",
   "metadata": {},
   "outputs": [],
   "source": []
  }
 ],
 "metadata": {
  "kernelspec": {
   "display_name": "Python 3 (ipykernel)",
   "language": "python",
   "name": "python3"
  },
  "language_info": {
   "codemirror_mode": {
    "name": "ipython",
    "version": 3
   },
   "file_extension": ".py",
   "mimetype": "text/x-python",
   "name": "python",
   "nbconvert_exporter": "python",
   "pygments_lexer": "ipython3",
   "version": "3.12.5"
  }
 },
 "nbformat": 4,
 "nbformat_minor": 5
}
