{
 "cells": [
  {
   "cell_type": "code",
   "execution_count": 25,
   "metadata": {},
   "outputs": [],
   "source": [
    "import requests\n",
    "from bs4 import BeautifulSoup as bs\n",
    "import pandas as pd\n",
    "import numpy as np\n"
   ]
  },
  {
   "cell_type": "code",
   "execution_count": 26,
   "metadata": {
    "scrolled": true
   },
   "outputs": [
    {
     "data": {
      "text/plain": [
       "<Response [529]>"
      ]
     },
     "execution_count": 26,
     "metadata": {},
     "output_type": "execute_result"
    }
   ],
   "source": [
    "request1=requests.get(\"https://www.flipkart.com/noise-icon-2-bluetooth-calling-1-8-display-ai-voice-assistant-60-sports-mode-smartwatch/p/itmfa97e2fcabed9?pid=SMWGEH7VGYMGCP3V&lid=LSTSMWGEH7VGYMGCP3VTODMR3&marketplace=FLIPKART&store=ajy%2Fbuh&spotlightTagId=BestsellerId_ajy%2Fbuh&srno=b_1_1&otracker=browse&fm=organic&iid=7f807457-16c0-4868-985d-053737a9cdcb.SMWGEH7VGYMGCP3V.SEARCH&ppt=browse&ppn=browse&ssid=r1rzrnr69c0000001685173052714\")\n",
    "request1"
   ]
  },
  {
   "cell_type": "code",
   "execution_count": 27,
   "metadata": {},
   "outputs": [
    {
     "data": {
      "text/plain": [
       "'Site is overloaded'"
      ]
     },
     "execution_count": 27,
     "metadata": {},
     "output_type": "execute_result"
    }
   ],
   "source": [
    "request1.text"
   ]
  },
  {
   "cell_type": "code",
   "execution_count": 11,
   "metadata": {},
   "outputs": [
    {
     "name": "stdout",
     "output_type": "stream",
     "text": [
      "Site is overloaded\n"
     ]
    }
   ],
   "source": [
    "soup=bs(request1.text,'html.parser')\n",
    "print(soup)"
   ]
  },
  {
   "cell_type": "code",
   "execution_count": 12,
   "metadata": {},
   "outputs": [],
   "source": [
    "reviews=soup.findAll('div',{'class':'ZmyHeo'})\n",
    "all_reviews=[]\n",
    "for review in reviews:\n",
    "    reviewText=review.get_text().replace('READ MORE',\"\").strip()\n",
    "    all_reviews.append(reviewText)\n",
    "    print(reviewText+\"\\n\\n\")"
   ]
  },
  {
   "cell_type": "code",
   "execution_count": 13,
   "metadata": {},
   "outputs": [
    {
     "data": {
      "text/plain": [
       "[]"
      ]
     },
     "execution_count": 13,
     "metadata": {},
     "output_type": "execute_result"
    }
   ],
   "source": [
    "ratings=soup.findAll('div',{\"class\":\"XQDdHH Ga3i8K\"})\n",
    "all_ratings=[]\n",
    "for rating in ratings:\n",
    "    all_ratings.append(rating.get_text())\n",
    "all_ratings"
   ]
  },
  {
   "cell_type": "code",
   "execution_count": 14,
   "metadata": {},
   "outputs": [
    {
     "data": {
      "text/plain": [
       "[]"
      ]
     },
     "execution_count": 14,
     "metadata": {},
     "output_type": "execute_result"
    }
   ],
   "source": [
    "tags=soup.findAll('p',{'class':'z9E0IG'})\n",
    "all_tags=[]\n",
    "for tag in tags:\n",
    "    all_tags.append(tag.get_text())\n",
    "all_tags"
   ]
  },
  {
   "cell_type": "code",
   "execution_count": 15,
   "metadata": {},
   "outputs": [
    {
     "data": {
      "text/plain": [
       "[]"
      ]
     },
     "execution_count": 15,
     "metadata": {},
     "output_type": "execute_result"
    }
   ],
   "source": [
    "cus_names=soup.findAll('p',{'class':'_2NsDsF AwS1CA'})\n",
    "all_cus_names=[]\n",
    "for cus_name in cus_names:\n",
    "    all_cus_names.append(cus_name.get_text())\n",
    "all_cus_names"
   ]
  },
  {
   "cell_type": "code",
   "execution_count": 16,
   "metadata": {},
   "outputs": [
    {
     "data": {
      "text/plain": [
       "{'names': [], 'ratings': [], 'tags': [], 'reviews': []}"
      ]
     },
     "execution_count": 16,
     "metadata": {},
     "output_type": "execute_result"
    }
   ],
   "source": [
    "data={\n",
    "    \"names\":all_cus_names,\n",
    "    \"ratings\":all_ratings,\n",
    "    \"tags\":all_tags,\n",
    "    \"reviews\":all_reviews,\n",
    "}\n",
    "data"
   ]
  },
  {
   "cell_type": "code",
   "execution_count": 17,
   "metadata": {},
   "outputs": [
    {
     "data": {
      "text/html": [
       "<div>\n",
       "<style scoped>\n",
       "    .dataframe tbody tr th:only-of-type {\n",
       "        vertical-align: middle;\n",
       "    }\n",
       "\n",
       "    .dataframe tbody tr th {\n",
       "        vertical-align: top;\n",
       "    }\n",
       "\n",
       "    .dataframe thead th {\n",
       "        text-align: right;\n",
       "    }\n",
       "</style>\n",
       "<table border=\"1\" class=\"dataframe\">\n",
       "  <thead>\n",
       "    <tr style=\"text-align: right;\">\n",
       "      <th></th>\n",
       "      <th>names</th>\n",
       "      <th>ratings</th>\n",
       "      <th>tags</th>\n",
       "      <th>reviews</th>\n",
       "    </tr>\n",
       "  </thead>\n",
       "  <tbody>\n",
       "  </tbody>\n",
       "</table>\n",
       "</div>"
      ],
      "text/plain": [
       "Empty DataFrame\n",
       "Columns: [names, ratings, tags, reviews]\n",
       "Index: []"
      ]
     },
     "execution_count": 17,
     "metadata": {},
     "output_type": "execute_result"
    }
   ],
   "source": [
    "df = pd.DataFrame({k: v[:min(len(v) for v in data.values())] for k, v in data.items()})\n",
    "pd.set_option('display.max_colwidth', None)\n",
    "df.to_csv('PS32.csv', index=False)\n",
    "df\n"
   ]
  },
  {
   "cell_type": "code",
   "execution_count": null,
   "metadata": {},
   "outputs": [],
   "source": []
  },
  {
   "cell_type": "code",
   "execution_count": null,
   "metadata": {},
   "outputs": [],
   "source": []
  }
 ],
 "metadata": {
  "kernelspec": {
   "display_name": "Python 3 (ipykernel)",
   "language": "python",
   "name": "python3"
  },
  "language_info": {
   "codemirror_mode": {
    "name": "ipython",
    "version": 3
   },
   "file_extension": ".py",
   "mimetype": "text/x-python",
   "name": "python",
   "nbconvert_exporter": "python",
   "pygments_lexer": "ipython3",
   "version": "3.12.5"
  }
 },
 "nbformat": 4,
 "nbformat_minor": 4
}
