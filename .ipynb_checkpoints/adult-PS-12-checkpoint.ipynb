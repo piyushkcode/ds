{
 "cells": [
  {
   "cell_type": "code",
   "execution_count": 1,
   "id": "484fdad5",
   "metadata": {},
   "outputs": [],
   "source": [
    "import pandas as pd\n",
    "\n",
    "# 1. Load the Adult dataset (comma-separated, drop the “?” placeholders)\n",
    "cols = [\n",
    "    \"age\",\"workclass\",\"fnlwgt\",\"education\",\"education-num\",\n",
    "    \"marital-status\",\"occupation\",\"relationship\",\"race\",\n",
    "    \"sex\",\"capital-gain\",\"capital-loss\",\"hours-per-week\",\n",
    "    \"native-country\",\"income\"\n",
    "]\n",
    "df = pd.read_csv(r\"E:\\DSBDAL\\DSBDALExam DataSets\\DSBDALExam DataSets\\Adult\\adult_dataset.csv\",\n",
    "    names=cols,\n",
    "    na_values=\" ?\",\n",
    "    skipinitialspace=True\n",
    ").dropna()"
   ]
  },
  {
   "cell_type": "code",
   "execution_count": 2,
   "id": "3ea8c8b9",
   "metadata": {},
   "outputs": [],
   "source": [
    "# s. Create subsets by country, sex, and race\n",
    "df_us     = df[df[\"native-country\"] == \"United-States\"]\n",
    "df_female = df[df[\"sex\"] == \"Female\"]\n",
    "df_white  = df[df[\"race\"] == \"White\"]"
   ]
  },
  {
   "cell_type": "code",
   "execution_count": 3,
   "id": "b62c84d3",
   "metadata": {},
   "outputs": [
    {
     "name": "stdout",
     "output_type": "stream",
     "text": [
      "US subset: (29170, 15)\n",
      "Female subset: (10771, 15)\n",
      "White subset: (27816, 15)\n"
     ]
    }
   ],
   "source": [
    "print(\"US subset:\",       df_us.shape)\n",
    "print(\"Female subset:\",   df_female.shape)\n",
    "print(\"White subset:\",    df_white.shape)"
   ]
  },
  {
   "cell_type": "code",
   "execution_count": 4,
   "id": "0df02fc5",
   "metadata": {},
   "outputs": [],
   "source": [
    "df_us_female = pd.concat([df_us, df_female], ignore_index=True).drop_duplicates()"
   ]
  },
  {
   "cell_type": "code",
   "execution_count": 5,
   "id": "b3c353eb",
   "metadata": {},
   "outputs": [
    {
     "name": "stdout",
     "output_type": "stream",
     "text": [
      "Merged US+Female: (30239, 15)\n"
     ]
    }
   ],
   "source": [
    "print(\"Merged US+Female:\",df_us_female.shape)"
   ]
  },
  {
   "cell_type": "code",
   "execution_count": 6,
   "id": "aa179e44",
   "metadata": {},
   "outputs": [],
   "source": [
    "df_sorted = df.sort_values(\"hours-per-week\", ascending=False).reset_index(drop=True)"
   ]
  },
  {
   "cell_type": "code",
   "execution_count": 7,
   "id": "bf217095",
   "metadata": {},
   "outputs": [
    {
     "name": "stdout",
     "output_type": "stream",
     "text": [
      "\n",
      "Top 3 busiest (hrs/week):\n",
      "     sex  hours-per-week\n",
      "0  Male              99\n",
      "1  Male              99\n",
      "2  Male              99\n"
     ]
    }
   ],
   "source": [
    "print(\"\\nTop 3 busiest (hrs/week):\\n\", df_sorted[[\"sex\",\"hours-per-week\"]].head(3))"
   ]
  },
  {
   "cell_type": "code",
   "execution_count": 8,
   "id": "54cde1b3",
   "metadata": {},
   "outputs": [],
   "source": [
    "df_transposed = df.head(5).T"
   ]
  },
  {
   "cell_type": "code",
   "execution_count": 10,
   "id": "51596735",
   "metadata": {},
   "outputs": [
    {
     "name": "stdout",
     "output_type": "stream",
     "text": [
      "\n",
      "Transposed (first 5 rows):\n",
      "                             0                   1                  2  \\\n",
      "age                        39                  50                 38   \n",
      "workclass           State-gov    Self-emp-not-inc            Private   \n",
      "fnlwgt                  77516               83311             215646   \n",
      "education           Bachelors           Bachelors            HS-grad   \n",
      "education-num              13                  13                  9   \n",
      "marital-status  Never-married  Married-civ-spouse           Divorced   \n",
      "occupation       Adm-clerical     Exec-managerial  Handlers-cleaners   \n",
      "relationship    Not-in-family             Husband      Not-in-family   \n",
      "race                    White               White              White   \n",
      "sex                      Male                Male               Male   \n",
      "capital-gain             2174                   0                  0   \n",
      "capital-loss                0                   0                  0   \n",
      "hours-per-week             40                  13                 40   \n",
      "native-country  United-States       United-States      United-States   \n",
      "income                  <=50K               <=50K              <=50K   \n",
      "\n",
      "                                 3                   4  \n",
      "age                             53                  28  \n",
      "workclass                  Private             Private  \n",
      "fnlwgt                      234721              338409  \n",
      "education                     11th           Bachelors  \n",
      "education-num                    7                  13  \n",
      "marital-status  Married-civ-spouse  Married-civ-spouse  \n",
      "occupation       Handlers-cleaners      Prof-specialty  \n",
      "relationship               Husband                Wife  \n",
      "race                         Black               Black  \n",
      "sex                           Male              Female  \n",
      "capital-gain                     0                   0  \n",
      "capital-loss                     0                   0  \n",
      "hours-per-week                  40                  40  \n",
      "native-country       United-States                Cuba  \n",
      "income                       <=50K               <=50K  \n"
     ]
    }
   ],
   "source": [
    "print(\"\\nTransposed (first 5 rows):\\n\", df_transposed)"
   ]
  },
  {
   "cell_type": "code",
   "execution_count": 11,
   "id": "3f1ee99e",
   "metadata": {},
   "outputs": [],
   "source": [
    "df_long = df.reset_index().rename(columns={\"index\":\"RowID\"})\n",
    "df_melted = pd.melt(\n",
    "    df_long,\n",
    "    id_vars=[\"RowID\",\"sex\",\"race\",\"native-country\"],\n",
    "    var_name=\"feature\",\n",
    "    value_name=\"value\"\n",
    ")"
   ]
  },
  {
   "cell_type": "code",
   "execution_count": 12,
   "id": "d1be8507",
   "metadata": {},
   "outputs": [
    {
     "name": "stdout",
     "output_type": "stream",
     "text": [
      "\n",
      "Melted sample:\n",
      "    RowID     sex   race native-country feature value\n",
      "0      0    Male  White  United-States     age    39\n",
      "1      1    Male  White  United-States     age    50\n",
      "2      2    Male  White  United-States     age    38\n",
      "3      3    Male  Black  United-States     age    53\n",
      "4      4  Female  Black           Cuba     age    28\n",
      "5      5  Female  White  United-States     age    37\n"
     ]
    }
   ],
   "source": [
    "print(\"\\nMelted sample:\\n\", df_melted.head(6))"
   ]
  },
  {
   "cell_type": "code",
   "execution_count": 13,
   "id": "36981a93",
   "metadata": {},
   "outputs": [],
   "source": [
    "df_wide = (\n",
    "    df_melted\n",
    "      .pivot(index=\"RowID\", columns=\"feature\", values=\"value\")\n",
    "      .reset_index(drop=True)\n",
    ")"
   ]
  },
  {
   "cell_type": "code",
   "execution_count": 14,
   "id": "68173f15",
   "metadata": {},
   "outputs": [
    {
     "name": "stdout",
     "output_type": "stream",
     "text": [
      "\n",
      "Re-pivoted wide (first 5 rows):\n",
      " feature age capital-gain capital-loss  education education-num  fnlwgt  \\\n",
      "0        39         2174            0  Bachelors            13   77516   \n",
      "1        50            0            0  Bachelors            13   83311   \n",
      "2        38            0            0    HS-grad             9  215646   \n",
      "3        53            0            0       11th             7  234721   \n",
      "4        28            0            0  Bachelors            13  338409   \n",
      "\n",
      "feature hours-per-week income      marital-status         occupation  \\\n",
      "0                   40  <=50K       Never-married       Adm-clerical   \n",
      "1                   13  <=50K  Married-civ-spouse    Exec-managerial   \n",
      "2                   40  <=50K            Divorced  Handlers-cleaners   \n",
      "3                   40  <=50K  Married-civ-spouse  Handlers-cleaners   \n",
      "4                   40  <=50K  Married-civ-spouse     Prof-specialty   \n",
      "\n",
      "feature   relationship         workclass  \n",
      "0        Not-in-family         State-gov  \n",
      "1              Husband  Self-emp-not-inc  \n",
      "2        Not-in-family           Private  \n",
      "3              Husband           Private  \n",
      "4                 Wife           Private  \n"
     ]
    }
   ],
   "source": [
    "print(\"\\nRe-pivoted wide (first 5 rows):\\n\", df_wide.head())"
   ]
  },
  {
   "cell_type": "code",
   "execution_count": null,
   "id": "dd680d7d",
   "metadata": {},
   "outputs": [],
   "source": []
  }
 ],
 "metadata": {
  "kernelspec": {
   "display_name": "Python 3 (ipykernel)",
   "language": "python",
   "name": "python3"
  },
  "language_info": {
   "codemirror_mode": {
    "name": "ipython",
    "version": 3
   },
   "file_extension": ".py",
   "mimetype": "text/x-python",
   "name": "python",
   "nbconvert_exporter": "python",
   "pygments_lexer": "ipython3",
   "version": "3.12.5"
  }
 },
 "nbformat": 4,
 "nbformat_minor": 5
}
